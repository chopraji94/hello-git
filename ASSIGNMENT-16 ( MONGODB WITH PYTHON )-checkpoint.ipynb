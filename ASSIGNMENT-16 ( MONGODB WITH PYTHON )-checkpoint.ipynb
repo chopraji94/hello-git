{
 "cells": [
  {
   "cell_type": "markdown",
   "metadata": {},
   "source": [
    "# Q.1- Write a python script to create a databse of students named Students."
   ]
  },
  {
   "cell_type": "code",
   "execution_count": 10,
   "metadata": {},
   "outputs": [],
   "source": [
    "import pymongo\n",
    "client=pymongo.MongoClient()\n",
    "database=client['Students']\n",
    "collection=database['student'] #Creating Table Of Name student"
   ]
  },
  {
   "cell_type": "markdown",
   "metadata": {},
   "source": [
    "# Q.2- Take students name and marks(between 0-100) as input from user 10 times using loops. \n",
    "\n",
    "                                            AND\n",
    "\n",
    "#Q.3- Add these values in two columns named \"Name\" and \"Marks\" with the appropriate data type."
   ]
  },
  {
   "cell_type": "code",
   "execution_count": 12,
   "metadata": {},
   "outputs": [
    {
     "name": "stdout",
     "output_type": "stream",
     "text": [
      "Enter the name: kj\n",
      "Enter your Marks: 49\n",
      "Enter the name: m\n",
      "Enter your Marks: 90\n",
      "Enter the name: hg\n",
      "Enter your Marks: 67\n",
      "Enter the name: jh\n",
      "Enter your Marks: 200\n",
      "Invalid entry of marks\n",
      "Enter the name: hg\n",
      "Enter your Marks: 78\n",
      "Enter the name: jj\n",
      "Enter your Marks: 100\n",
      "Enter the name: uy\n",
      "Enter your Marks: 55\n",
      "Enter the name: gf\n",
      "Enter your Marks: 87\n",
      "Enter the name: jh\n",
      "Enter your Marks: 97\n",
      "Enter the name: sd\n",
      "Enter your Marks: 88\n",
      "Enter the name: jn\n",
      "Enter your Marks: 88\n"
     ]
    }
   ],
   "source": [
    "i=0\n",
    "while(i<10):\n",
    "    try:\n",
    "        name = input(\"Enter the name: \")     # Taking name and marks input\n",
    "        marks = int(input('Enter your Marks: '))\n",
    "        if(marks<0 or marks >100):                #Checking the marks entered should be less then 100 and greater then 0 \n",
    "            raise ValueError('Invalid entry of marks')\n",
    "            i=i-1\n",
    "        else:\n",
    "            collection.insert_one({'Name':name,'Marks':marks})  #Inserting names in the tables\n",
    "            i=i+1\n",
    "    except  ValueError as msg:\n",
    "        print(msg)    "
   ]
  },
  {
   "cell_type": "markdown",
   "metadata": {},
   "source": [
    "# Q.4- Print the names of all the students who scored more than 80 marks."
   ]
  },
  {
   "cell_type": "code",
   "execution_count": 15,
   "metadata": {},
   "outputs": [
    {
     "name": "stdout",
     "output_type": "stream",
     "text": [
      "{'_id': ObjectId('5b928f06fac13d32702a6dc9'), 'Name': 'm', 'Marks': 90}\n",
      "{'_id': ObjectId('5b928f19fac13d32702a6dcc'), 'Name': 'jj', 'Marks': 100}\n",
      "{'_id': ObjectId('5b928f26fac13d32702a6dce'), 'Name': 'gf', 'Marks': 87}\n",
      "{'_id': ObjectId('5b928f2efac13d32702a6dcf'), 'Name': 'jh', 'Marks': 97}\n",
      "{'_id': ObjectId('5b928f45fac13d32702a6dd0'), 'Name': 'sd', 'Marks': 88}\n",
      "{'_id': ObjectId('5b928f54fac13d32702a6dd1'), 'Name': 'jn', 'Marks': 88}\n"
     ]
    }
   ],
   "source": [
    "data=collection.find({\"Marks\":{\"$gt\":80}}) # $gt -> gretaer then\n",
    "for d in data:\n",
    "    print(d)"
   ]
  }
 ],
 "metadata": {
  "kernelspec": {
   "display_name": "Python 3",
   "language": "python",
   "name": "python3"
  },
  "language_info": {
   "codemirror_mode": {
    "name": "ipython",
    "version": 3
   },
   "file_extension": ".py",
   "mimetype": "text/x-python",
   "name": "python",
   "nbconvert_exporter": "python",
   "pygments_lexer": "ipython3",
   "version": "3.6.5"
  }
 },
 "nbformat": 4,
 "nbformat_minor": 2
}
